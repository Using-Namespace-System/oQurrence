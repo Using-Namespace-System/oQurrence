{
 "cells": [
  {
   "cell_type": "code",
   "execution_count": 12,
   "metadata": {},
   "outputs": [
    {
     "ename": "TypeError",
     "evalue": "can only concatenate xarray Dataset and DataArray objects, got <class 'netCDF4._netCDF4.Dataset'>",
     "output_type": "error",
     "traceback": [
      "\u001b[0;31m---------------------------------------------------------------------------\u001b[0m",
      "\u001b[0;31mTypeError\u001b[0m                                 Traceback (most recent call last)",
      "Cell \u001b[0;32mIn[12], line 32\u001b[0m\n\u001b[1;32m     29\u001b[0m     temperature_data\u001b[38;5;241m.\u001b[39mappend(data)\n\u001b[1;32m     31\u001b[0m \u001b[38;5;66;03m# Combine all the data into a single xarray Dataset (if needed)\u001b[39;00m\n\u001b[0;32m---> 32\u001b[0m combined_temperature_data \u001b[38;5;241m=\u001b[39m xr\u001b[38;5;241m.\u001b[39mconcat(temperature_data, dim\u001b[38;5;241m=\u001b[39m\u001b[38;5;124m'\u001b[39m\u001b[38;5;124mtime\u001b[39m\u001b[38;5;124m'\u001b[39m)\n\u001b[1;32m     34\u001b[0m \u001b[38;5;66;03m# Optionally, save the combined data to a NetCDF file\u001b[39;00m\n\u001b[1;32m     35\u001b[0m combined_temperature_data\u001b[38;5;241m.\u001b[39mto_netcdf(\u001b[38;5;124m'\u001b[39m\u001b[38;5;124mtemperature_height_above_ground.nc\u001b[39m\u001b[38;5;124m'\u001b[39m)\n",
      "File \u001b[0;32m/opt/conda/lib/python3.12/site-packages/xarray/core/concat.py:264\u001b[0m, in \u001b[0;36mconcat\u001b[0;34m(objs, dim, data_vars, coords, compat, positions, fill_value, join, combine_attrs)\u001b[0m\n\u001b[1;32m    252\u001b[0m     \u001b[38;5;28;01mreturn\u001b[39;00m _dataset_concat(\n\u001b[1;32m    253\u001b[0m         objs,\n\u001b[1;32m    254\u001b[0m         dim\u001b[38;5;241m=\u001b[39mdim,\n\u001b[0;32m   (...)\u001b[0m\n\u001b[1;32m    261\u001b[0m         combine_attrs\u001b[38;5;241m=\u001b[39mcombine_attrs,\n\u001b[1;32m    262\u001b[0m     )\n\u001b[1;32m    263\u001b[0m \u001b[38;5;28;01melse\u001b[39;00m:\n\u001b[0;32m--> 264\u001b[0m     \u001b[38;5;28;01mraise\u001b[39;00m \u001b[38;5;167;01mTypeError\u001b[39;00m(\n\u001b[1;32m    265\u001b[0m         \u001b[38;5;124m\"\u001b[39m\u001b[38;5;124mcan only concatenate xarray Dataset and DataArray \u001b[39m\u001b[38;5;124m\"\u001b[39m\n\u001b[1;32m    266\u001b[0m         \u001b[38;5;124mf\u001b[39m\u001b[38;5;124m\"\u001b[39m\u001b[38;5;124mobjects, got \u001b[39m\u001b[38;5;132;01m{\u001b[39;00m\u001b[38;5;28mtype\u001b[39m(first_obj)\u001b[38;5;132;01m}\u001b[39;00m\u001b[38;5;124m\"\u001b[39m\n\u001b[1;32m    267\u001b[0m     )\n",
      "\u001b[0;31mTypeError\u001b[0m: can only concatenate xarray Dataset and DataArray objects, got <class 'netCDF4._netCDF4.Dataset'>"
     ]
    }
   ],
   "source": [
    "from siphon.catalog import TDSCatalog\n",
    "from siphon.ncss import NCSS\n",
    "import xarray as xr\n",
    "\n",
    "# Define the catalog URL\n",
    "catalog_url = \"https://www.ncei.noaa.gov/thredds/catalog/model-gfs-004-files-old/202005/20200501/catalog.xml\"\n",
    "\n",
    "# Access the catalog\n",
    "catalog = TDSCatalog(catalog_url)\n",
    "\n",
    "# Find datasets with Temperature_height_above_ground variable\n",
    "datasets = [dataset for dataset in catalog.datasets.values()]\n",
    "\n",
    "# Create an empty list to hold the data\n",
    "temperature_data = []\n",
    "\n",
    "# Loop through each dataset and retrieve the data\n",
    "for dataset in datasets:\n",
    "    # Get the URL for the dataset\n",
    "    ncss = NCSS(dataset.access_urls['NetcdfSubset'])\n",
    "    \n",
    "    # Define the query parameters\n",
    "    query = ncss.query().variables('Temperature_height_above_ground')\n",
    "    \n",
    "    # Retrieve the data\n",
    "    data = ncss.get_data(query)\n",
    "    \n",
    "    # Convert to xarray Dataset and append to the list\n",
    "    temperature_data.append(data)\n",
    "\n",
    "\n"
   ]
  },
  {
   "cell_type": "code",
   "execution_count": 21,
   "metadata": {},
   "outputs": [
    {
     "ename": "",
     "evalue": "",
     "output_type": "error",
     "traceback": [
      "\u001b[1;31mThe Kernel crashed while executing code in the current cell or a previous cell. \n",
      "\u001b[1;31mPlease review the code in the cell(s) to identify a possible cause of the failure. \n",
      "\u001b[1;31mClick <a href='https://aka.ms/vscodeJupyterKernelCrash'>here</a> for more info. \n",
      "\u001b[1;31mView Jupyter <a href='command:jupyter.viewOutput'>log</a> for further details."
     ]
    }
   ],
   "source": [
    "xarray_datasets = []\n",
    "\n",
    "for dataset in temperature_data:\n",
    "    # Convert the netCDF4 dataset directly to an xarray dataset\n",
    "    xarray_ds = xr.Dataset({var: (dataset.variables[var].dimensions, dataset.variables[var][:]) \n",
    "                             for var in dataset.variables})\n",
    "    xarray_datasets.append(xarray_ds)\n",
    "\n",
    "combined_temperature_data = xr.concat(xarray_datasets, dim='time', coords='minimal')\n",
    "\n"
   ]
  },
  {
   "cell_type": "code",
   "execution_count": null,
   "metadata": {},
   "outputs": [],
   "source": [
    "\n",
    "combined_temperature_data.to_netcdf('temperature_height_above_ground.nc')"
   ]
  }
 ],
 "metadata": {
  "kernelspec": {
   "display_name": "base",
   "language": "python",
   "name": "python3"
  },
  "language_info": {
   "codemirror_mode": {
    "name": "ipython",
    "version": 3
   },
   "file_extension": ".py",
   "mimetype": "text/x-python",
   "name": "python",
   "nbconvert_exporter": "python",
   "pygments_lexer": "ipython3",
   "version": "3.12.2"
  }
 },
 "nbformat": 4,
 "nbformat_minor": 2
}
