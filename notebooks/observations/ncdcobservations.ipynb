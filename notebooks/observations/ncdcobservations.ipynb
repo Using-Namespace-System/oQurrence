{
 "cells": [
  {
   "cell_type": "code",
   "execution_count": 10,
   "metadata": {},
   "outputs": [
    {
     "name": "stdout",
     "output_type": "stream",
     "text": [
      "Data ingestion complete.\n"
     ]
    }
   ],
   "source": [
    "import requests\n",
    "import pandas as pd\n",
    "from datetime import datetime, timedelta\n",
    "\n",
    "# Define parameters\n",
    "start_date = datetime(2020, 5, 1, 0, 0)\n",
    "end_date = start_date + timedelta(days=30)  # Example for one month\n",
    "lat_range = (25, 50)\n",
    "lon_range = (-125, -70)\n",
    "\n",
    "# Function to fetch climate observations\n",
    "def fetch_climate_observations(start_date, end_date, lat_range, lon_range):\n",
    "    url = 'https://www.ncdc.noaa.gov/cdo-web/api/v2/data'\n",
    "    headers = {\n",
    "        'token': 'periMxrEkGEBmANzQAsyVWxRWCOAipkp'  # Replace with your NCDC API token\n",
    "    }\n",
    "    params = {\n",
    "        'datasetid': 'GHCND',\n",
    "        'startdate': start_date.strftime('%Y-%m-%dT%H:%M:%S'),\n",
    "        'enddate': end_date.strftime('%Y-%m-%dT%H:%M:%S'),\n",
    "        'latitude': (lat_range[0] + lat_range[1]) / 2,  # Midpoint\n",
    "        'longitude': (lon_range[0] + lon_range[1]) / 2,  # Midpoint\n",
    "        'units': 'metric',  # or 'standard'\n",
    "        'limit': 1000  # Adjust based on expected results\n",
    "    }\n",
    "\n",
    "    response = requests.get(url, headers=headers, params=params)\n",
    "    data = response.json()\n",
    "\n",
    "    # Process the data as needed\n",
    "    return pd.DataFrame(data['results'])\n",
    "\n",
    "\n",
    "\n",
    "# Fetch the data\n",
    "climate_observations = fetch_climate_observations(start_date, end_date, lat_range, lon_range)\n",
    "\n",
    "# Save to CSV or another format\n",
    "climate_observations.to_csv('observaiton_data_05_2020.csv', index=False)\n",
    "\n",
    "print(\"Data ingestion complete.\")\n"
   ]
  },
  {
   "cell_type": "code",
   "execution_count": null,
   "metadata": {},
   "outputs": [],
   "source": []
  }
 ],
 "metadata": {
  "kernelspec": {
   "display_name": "base",
   "language": "python",
   "name": "python3"
  },
  "language_info": {
   "codemirror_mode": {
    "name": "ipython",
    "version": 3
   },
   "file_extension": ".py",
   "mimetype": "text/x-python",
   "name": "python",
   "nbconvert_exporter": "python",
   "pygments_lexer": "ipython3",
   "version": "3.12.2"
  }
 },
 "nbformat": 4,
 "nbformat_minor": 2
}
