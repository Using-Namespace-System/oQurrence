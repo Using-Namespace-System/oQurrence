{
 "cells": [
  {
   "cell_type": "code",
   "execution_count": 47,
   "metadata": {},
   "outputs": [],
   "source": [
    "from siphon.catalog import TDSCatalog\n",
    "from datetime import datetime\n",
    "import xarray as xr\n",
    "\n",
    "# Access the forecast dataset catalog\n",
    "catalog_url = 'https://thredds.ucar.edu/thredds/catalog/grib/NCEP/GFS/Global_0p25deg/catalog.xml'\n",
    "cat = TDSCatalog(catalog_url)\n",
    "\n",
    "# Access the dataset for the 'Best' collection\n",
    "ncss = cat.datasets.get('Best GFS Quarter Degree Forecast Time Series').subset()\n",
    "\n",
    "# Check available time range for the dataset\n",
    "#print(\"Time range of dataset: \", ncss.metadata['timeCoverage']['start'], \" to \", ncss.metadata['timeCoverage']['end'])\n",
    "\n",
    "# Adjust the time query to the available range\n",
    "\n",
    "# Set up the query\n",
    "query = ncss.query()\n",
    "query.variables('Temperature_height_above_ground').lonlat_box(north=50, south=20, east=-60, west=-130)\n",
    "#query.all_times()\n",
    "query.time(datetime(2024, 9, 23, 0, 0))\n",
    "\n",
    "# Get the data in NetCDF format\n",
    "ncep_gfs_data = ncss.get_data(query)\n"
   ]
  },
  {
   "cell_type": "code",
   "execution_count": 58,
   "metadata": {},
   "outputs": [
    {
     "name": "stdout",
     "output_type": "stream",
     "text": [
      "Dataset: Full Collection (Reference / Forecast Time) Dataset\n",
      "Dataset: Best GFS Quarter Degree Forecast Time Series\n",
      "Dataset: Latest Collection for GFS Quarter Degree Forecast\n"
     ]
    },
    {
     "ename": "AttributeError",
     "evalue": "NetCDF: Attribute not found",
     "output_type": "error",
     "traceback": [
      "\u001b[0;31m---------------------------------------------------------------------------\u001b[0m",
      "\u001b[0;31mAttributeError\u001b[0m                            Traceback (most recent call last)",
      "Cell \u001b[0;32mIn[58], line 34\u001b[0m\n\u001b[1;32m     32\u001b[0m \u001b[38;5;66;03m# Save the data to a file or process further\u001b[39;00m\n\u001b[1;32m     33\u001b[0m \u001b[38;5;28;01mwith\u001b[39;00m \u001b[38;5;28mopen\u001b[39m(\u001b[38;5;124m'\u001b[39m\u001b[38;5;124mhistorical_gfs_forecast.nc\u001b[39m\u001b[38;5;124m'\u001b[39m, \u001b[38;5;124m'\u001b[39m\u001b[38;5;124mwb\u001b[39m\u001b[38;5;124m'\u001b[39m) \u001b[38;5;28;01mas\u001b[39;00m f:\n\u001b[0;32m---> 34\u001b[0m     f\u001b[38;5;241m.\u001b[39mwrite(data\u001b[38;5;241m.\u001b[39mread())\n",
      "File \u001b[0;32msrc/netCDF4/_netCDF4.pyx:3142\u001b[0m, in \u001b[0;36mnetCDF4._netCDF4.Dataset.__getattr__\u001b[0;34m()\u001b[0m\n",
      "File \u001b[0;32msrc/netCDF4/_netCDF4.pyx:3087\u001b[0m, in \u001b[0;36mnetCDF4._netCDF4.Dataset.getncattr\u001b[0;34m()\u001b[0m\n",
      "File \u001b[0;32msrc/netCDF4/_netCDF4.pyx:1544\u001b[0m, in \u001b[0;36mnetCDF4._netCDF4._get_att\u001b[0;34m()\u001b[0m\n",
      "File \u001b[0;32msrc/netCDF4/_netCDF4.pyx:2034\u001b[0m, in \u001b[0;36mnetCDF4._netCDF4._ensure_nc_success\u001b[0;34m()\u001b[0m\n",
      "\u001b[0;31mAttributeError\u001b[0m: NetCDF: Attribute not found"
     ]
    }
   ],
   "source": [
    "from siphon.catalog import TDSCatalog\n",
    "from datetime import datetime\n",
    "\n",
    "# URL for the GFS 0.25 degree global forecast catalog\n",
    "catalog_url = \"https://thredds.ucar.edu/thredds/catalog/grib/NCEP/GFS/Global_0p25deg/catalog.xml\"\n",
    "\n",
    "# Open the THREDDS catalog\n",
    "cat = TDSCatalog(catalog_url)\n",
    "\n",
    "# Access a specific dataset (in this case, we will choose the 'Best' dataset)\n",
    "# We can loop through datasets to find past forecasts.\n",
    "for dataset_name in cat.datasets:\n",
    "    print(f\"Dataset: {dataset_name}\")\n",
    "\n",
    "# For example, pick a forecast dataset (here, we manually choose)\n",
    "dataset = cat.datasets[\"Best GFS Quarter Degree Forecast Time Series\"]\n",
    "\n",
    "# Access the NetCDF Subset Service (NCSS) for querying the dataset\n",
    "ncss = dataset.subset()\n",
    "\n",
    "# Define a query for specific parameters like temperature and region (continental US)\n",
    "query = ncss.query()\n",
    "query.lonlat_box(north=50, south=20, east=-60, west=-130)  # Define the bounding box\n",
    "query.variables('Temperature_surface')  # Variable of interest\n",
    "\n",
    "# Choose a historical forecast time (adjust based on your needs)\n",
    "query.time_range(datetime(2024, 9, 23, 0, 0), datetime(2024, 9, 24, 0, 0))  # Historical range\n",
    "\n",
    "# Get the data (in NetCDF format)\n",
    "data = ncss.get_data(query)\n",
    "\n",
    "# Save the data to a file or process further\n",
    "with open('historical_gfs_forecast.nc', 'wb') as f:\n",
    "    f.write(data.read())\n"
   ]
  },
  {
   "cell_type": "code",
   "execution_count": 59,
   "metadata": {},
   "outputs": [
    {
     "data": {
      "text/plain": [
       "<class 'netCDF4._netCDF4.Dataset'>\n",
       "root group (NETCDF3_CLASSIC data model, file format NETCDF3):\n",
       "    Originating_or_generating_Center: US National Weather Service, National Centres for Environmental Prediction (NCEP)\n",
       "    Originating_or_generating_Subcenter: 0\n",
       "    GRIB_table_version: 2,1\n",
       "    Type_of_generating_process: Forecast\n",
       "    Analysis_or_forecast_generating_process_identifier_defined_by_originating_centre: Analysis from GFS (Global Forecast System)\n",
       "    Conventions: CF-1.6\n",
       "    history: Read using CDM IOSP GribCollection v3\n",
       "    featureType: GRID\n",
       "    History: Translated to CF-1.0 Conventions by Netcdf-Java CDM (CFGridCoverageWriter)\n",
       "Original Dataset = GFS-Global_0p25deg#Best; Translation Date = 2024-09-30T00:21:42.377Z\n",
       "    geospatial_lat_min: 19.875\n",
       "    geospatial_lat_max: 50.125\n",
       "    geospatial_lon_min: -130.125\n",
       "    geospatial_lon_max: -59.875\n",
       "    dimensions(sizes): latitude(121), time(9), longitude(281)\n",
       "    variables(dimensions): float64 reftime(time), float32 latitude(latitude), float64 time(time), float32 longitude(longitude), float32 Temperature_surface(time, latitude, longitude), int32 LatLon_721X1440-0p13S-180p00E-2()\n",
       "    groups: "
      ]
     },
     "execution_count": 59,
     "metadata": {},
     "output_type": "execute_result"
    }
   ],
   "source": [
    "dat"
   ]
  },
  {
   "cell_type": "code",
   "execution_count": 48,
   "metadata": {},
   "outputs": [
    {
     "data": {
      "text/plain": [
       "<class 'netCDF4._netCDF4.Dataset'>\n",
       "root group (NETCDF3_CLASSIC data model, file format NETCDF3):\n",
       "    Originating_or_generating_Center: US National Weather Service, National Centres for Environmental Prediction (NCEP)\n",
       "    Originating_or_generating_Subcenter: 0\n",
       "    GRIB_table_version: 2,1\n",
       "    Type_of_generating_process: Forecast\n",
       "    Analysis_or_forecast_generating_process_identifier_defined_by_originating_centre: Analysis from GFS (Global Forecast System)\n",
       "    Conventions: CF-1.6\n",
       "    history: Read using CDM IOSP GribCollection v3\n",
       "    featureType: GRID\n",
       "    History: Translated to CF-1.0 Conventions by Netcdf-Java CDM (CFGridCoverageWriter)\n",
       "Original Dataset = GFS-Global_0p25deg#Best; Translation Date = 2024-09-30T00:17:22.618Z\n",
       "    geospatial_lat_min: 19.875\n",
       "    geospatial_lat_max: 50.125\n",
       "    geospatial_lon_min: -130.125\n",
       "    geospatial_lon_max: -59.875\n",
       "    dimensions(sizes): latitude(121), time(1), height_above_ground3(3), longitude(281)\n",
       "    variables(dimensions): float64 reftime(time), float32 latitude(latitude), float64 time(time), float64 height_above_ground3(height_above_ground3), float32 longitude(longitude), float32 Temperature_height_above_ground(time, height_above_ground3, latitude, longitude), int32 LatLon_721X1440-0p13S-180p00E-2()\n",
       "    groups: "
      ]
     },
     "execution_count": 48,
     "metadata": {},
     "output_type": "execute_result"
    }
   ],
   "source": [
    "ncep_gfs_data"
   ]
  },
  {
   "cell_type": "code",
   "execution_count": 49,
   "metadata": {},
   "outputs": [
    {
     "data": {
      "text/plain": [
       "<class 'netCDF4._netCDF4.Variable'>\n",
       "float64 reftime(time)\n",
       "    units: Hour since 2024-09-23T00:00:00Z\n",
       "    standard_name: forecast_reference_time\n",
       "    long_name: GRIB reference time\n",
       "    calendar: proleptic_gregorian\n",
       "unlimited dimensions: \n",
       "current shape = (183,)\n",
       "filling on, default _FillValue of 9.969209968386869e+36 used"
      ]
     },
     "execution_count": 49,
     "metadata": {},
     "output_type": "execute_result"
    }
   ],
   "source": [
    "data.variables['reftime']"
   ]
  },
  {
   "cell_type": "code",
   "execution_count": 50,
   "metadata": {},
   "outputs": [
    {
     "data": {
      "text/plain": [
       "masked_array(data=[0.],\n",
       "             mask=False,\n",
       "       fill_value=1e+20)"
      ]
     },
     "execution_count": 50,
     "metadata": {},
     "output_type": "execute_result"
    }
   ],
   "source": [
    "ncep_gfs_data.variables['reftime'][:]"
   ]
  },
  {
   "cell_type": "code",
   "execution_count": 51,
   "metadata": {},
   "outputs": [
    {
     "data": {
      "text/plain": [
       "<class 'netCDF4._netCDF4.Variable'>\n",
       "float64 time(time)\n",
       "    units: Hour since 2024-09-23T00:00:00Z\n",
       "    standard_name: time\n",
       "    long_name: GRIB forecast or observation time\n",
       "    calendar: proleptic_gregorian\n",
       "unlimited dimensions: \n",
       "current shape = (1,)\n",
       "filling on, default _FillValue of 9.969209968386869e+36 used"
      ]
     },
     "execution_count": 51,
     "metadata": {},
     "output_type": "execute_result"
    }
   ],
   "source": [
    "ncep_gfs_data.variables['time']"
   ]
  },
  {
   "cell_type": "code",
   "execution_count": 52,
   "metadata": {},
   "outputs": [
    {
     "data": {
      "text/plain": [
       "masked_array(data=[0.],\n",
       "             mask=False,\n",
       "       fill_value=1e+20)"
      ]
     },
     "execution_count": 52,
     "metadata": {},
     "output_type": "execute_result"
    }
   ],
   "source": [
    "ncep_gfs_data.variables['time'][:]"
   ]
  },
  {
   "cell_type": "code",
   "execution_count": 53,
   "metadata": {},
   "outputs": [
    {
     "data": {
      "text/plain": [
       "masked_array(\n",
       "  data=[[[[288.7    , 288.7    , 288.8    , ..., 285.4    , 285.6    ,\n",
       "           285.6    ],\n",
       "          [289.1    , 289.1    , 289.2    , ..., 285.9    , 286.1    ,\n",
       "           286.2    ],\n",
       "          [289.5    , 289.5    , 289.5    , ..., 285.6    , 286.2    ,\n",
       "           286.3    ],\n",
       "          ...,\n",
       "          [296.9    , 296.9    , 296.9    , ..., 301.9    , 301.9    ,\n",
       "           301.7    ],\n",
       "          [297.     , 297.2    , 297.1    , ..., 301.6    , 301.6    ,\n",
       "           301.6    ],\n",
       "          [297.     , 297.1    , 297.     , ..., 301.5    , 301.6    ,\n",
       "           301.6    ]],\n",
       "\n",
       "         [[288.18167, 288.27167, 288.37167, ..., 284.93167, 285.03165,\n",
       "           285.05167],\n",
       "          [288.65167, 288.66165, 288.76166, ..., 285.18167, 285.32166,\n",
       "           285.44165],\n",
       "          [289.06165, 289.09167, 289.12167, ..., 284.72165, 285.25165,\n",
       "           285.41165],\n",
       "          ...,\n",
       "          [295.89166, 295.97165, 295.94165, ..., 301.00165, 301.04166,\n",
       "           301.04166],\n",
       "          [296.07166, 296.21167, 296.18167, ..., 300.89166, 300.81165,\n",
       "           300.82166],\n",
       "          [296.02167, 296.14166, 296.07166, ..., 300.91165, 300.86166,\n",
       "           300.94165]],\n",
       "\n",
       "         [[288.04294, 288.14294, 288.25293, ..., 284.82294, 284.91293,\n",
       "           284.92294],\n",
       "          [288.53293, 288.54294, 288.62292, ..., 285.01294, 285.13293,\n",
       "           285.25293],\n",
       "          [288.95294, 288.98294, 289.01294, ..., 284.53293, 285.05292,\n",
       "           285.20294],\n",
       "          ...,\n",
       "          [295.69293, 295.77292, 295.74292, ..., 300.80292, 300.84293,\n",
       "           300.8629 ],\n",
       "          [295.87292, 296.01294, 295.97293, ..., 300.71292, 300.63293,\n",
       "           300.65292],\n",
       "          [295.82294, 295.94293, 295.87292, ..., 300.74292, 300.68292,\n",
       "           300.77292]]]],\n",
       "  mask=False,\n",
       "  fill_value=1e+20,\n",
       "  dtype=float32)"
      ]
     },
     "execution_count": 53,
     "metadata": {},
     "output_type": "execute_result"
    }
   ],
   "source": [
    "ncep_gfs_data.variables['Temperature_height_above_ground'][:]"
   ]
  },
  {
   "cell_type": "code",
   "execution_count": 54,
   "metadata": {},
   "outputs": [
    {
     "data": {
      "text/plain": [
       "masked_array(data=[  2.,  80., 100.],\n",
       "             mask=False,\n",
       "       fill_value=1e+20)"
      ]
     },
     "execution_count": 54,
     "metadata": {},
     "output_type": "execute_result"
    }
   ],
   "source": [
    "ncep_gfs_data.variables['height_above_ground3'][:]"
   ]
  },
  {
   "cell_type": "code",
   "execution_count": 55,
   "metadata": {},
   "outputs": [
    {
     "ename": "ValueError",
     "evalue": "Could not convert tuple of form (dims, data[, attrs, encoding]): (['reftime', 'time', 'height_above_ground3', 'latitude', 'longitude'], masked_array(\n  data=[[[[15.550018 , 15.550018 , 15.649994 , ..., 12.25     ,\n           12.450012 , 12.450012 ],\n          [15.950012 , 15.950012 , 16.050018 , ..., 12.75     ,\n           12.950012 , 13.050018 ],\n          [16.350006 , 16.350006 , 16.350006 , ..., 12.450012 ,\n           13.050018 , 13.149994 ],\n          ...,\n          [23.75     , 23.75     , 23.75     , ..., 28.75     ,\n           28.75     , 28.550018 ],\n          [23.850006 , 24.050018 , 23.950012 , ..., 28.450012 ,\n           28.450012 , 28.450012 ],\n          [23.850006 , 23.950012 , 23.850006 , ..., 28.350006 ,\n           28.450012 , 28.450012 ]],\n\n         [[15.031677 , 15.121674 , 15.22168  , ..., 11.781677 ,\n           11.881653 , 11.901672 ],\n          [15.501678 , 15.511658 , 15.611664 , ..., 12.031677 ,\n           12.171661 , 12.2916565],\n          [15.911652 , 15.941681 , 15.97168  , ..., 11.571655 ,\n           12.101654 , 12.261658 ],\n          ...,\n          [22.741669 , 22.821655 , 22.791656 , ..., 27.851654 ,\n           27.891663 , 27.891663 ],\n          [22.921661 , 23.061676 , 23.031677 , ..., 27.741669 ,\n           27.661652 , 27.671661 ],\n          [22.871674 , 22.991669 , 22.921661 , ..., 27.761658 ,\n           27.71167  , 27.791656 ]],\n\n         [[14.892944 , 14.99295  , 15.102936 , ..., 11.672943 ,\n           11.762939 , 11.772949 ],\n          [15.382935 , 15.392944 , 15.472931 , ..., 11.862946 ,\n           11.982941 , 12.102936 ],\n          [15.802948 , 15.832947 , 15.862946 , ..., 11.382935 ,\n           11.902924 , 12.052948 ],\n          ...,\n          [22.542938 , 22.622925 , 22.592926 , ..., 27.652924 ,\n           27.692932 , 27.712921 ],\n          [22.72293  , 22.862946 , 22.822937 , ..., 27.562927 ,\n           27.48294  , 27.50293  ],\n          [22.672943 , 22.792938 , 22.72293  , ..., 27.592926 ,\n           27.532928 , 27.622925 ]]]],\n  mask=False,\n  fill_value=1e+20,\n  dtype=float32)) to Variable.",
     "output_type": "error",
     "traceback": [
      "\u001b[0;31m---------------------------------------------------------------------------\u001b[0m",
      "\u001b[0;31mValueError\u001b[0m                                Traceback (most recent call last)",
      "File \u001b[0;32m/opt/conda/lib/python3.12/site-packages/xarray/core/variable.py:132\u001b[0m, in \u001b[0;36mas_variable\u001b[0;34m(obj, name)\u001b[0m\n\u001b[1;32m    131\u001b[0m \u001b[38;5;28;01mtry\u001b[39;00m:\n\u001b[0;32m--> 132\u001b[0m     obj \u001b[38;5;241m=\u001b[39m Variable(\u001b[38;5;241m*\u001b[39mobj)\n\u001b[1;32m    133\u001b[0m \u001b[38;5;28;01mexcept\u001b[39;00m (\u001b[38;5;167;01mTypeError\u001b[39;00m, \u001b[38;5;167;01mValueError\u001b[39;00m) \u001b[38;5;28;01mas\u001b[39;00m error:\n\u001b[1;32m    134\u001b[0m     \u001b[38;5;66;03m# use .format() instead of % because it handles tuples consistently\u001b[39;00m\n",
      "File \u001b[0;32m/opt/conda/lib/python3.12/site-packages/xarray/core/variable.py:367\u001b[0m, in \u001b[0;36mVariable.__init__\u001b[0;34m(self, dims, data, attrs, encoding, fastpath)\u001b[0m\n\u001b[1;32m    366\u001b[0m \u001b[38;5;28mself\u001b[39m\u001b[38;5;241m.\u001b[39m_data \u001b[38;5;241m=\u001b[39m as_compatible_data(data, fastpath\u001b[38;5;241m=\u001b[39mfastpath)\n\u001b[0;32m--> 367\u001b[0m \u001b[38;5;28mself\u001b[39m\u001b[38;5;241m.\u001b[39m_dims \u001b[38;5;241m=\u001b[39m \u001b[38;5;28mself\u001b[39m\u001b[38;5;241m.\u001b[39m_parse_dimensions(dims)\n\u001b[1;32m    368\u001b[0m \u001b[38;5;28mself\u001b[39m\u001b[38;5;241m.\u001b[39m_attrs \u001b[38;5;241m=\u001b[39m \u001b[38;5;28;01mNone\u001b[39;00m\n",
      "File \u001b[0;32m/opt/conda/lib/python3.12/site-packages/xarray/core/variable.py:683\u001b[0m, in \u001b[0;36mVariable._parse_dimensions\u001b[0;34m(self, dims)\u001b[0m\n\u001b[1;32m    682\u001b[0m \u001b[38;5;28;01mif\u001b[39;00m \u001b[38;5;28mlen\u001b[39m(dims) \u001b[38;5;241m!=\u001b[39m \u001b[38;5;28mself\u001b[39m\u001b[38;5;241m.\u001b[39mndim:\n\u001b[0;32m--> 683\u001b[0m     \u001b[38;5;28;01mraise\u001b[39;00m \u001b[38;5;167;01mValueError\u001b[39;00m(\n\u001b[1;32m    684\u001b[0m         \u001b[38;5;124mf\u001b[39m\u001b[38;5;124m\"\u001b[39m\u001b[38;5;124mdimensions \u001b[39m\u001b[38;5;132;01m{\u001b[39;00mdims\u001b[38;5;132;01m}\u001b[39;00m\u001b[38;5;124m must have the same length as the \u001b[39m\u001b[38;5;124m\"\u001b[39m\n\u001b[1;32m    685\u001b[0m         \u001b[38;5;124mf\u001b[39m\u001b[38;5;124m\"\u001b[39m\u001b[38;5;124mnumber of data dimensions, ndim=\u001b[39m\u001b[38;5;132;01m{\u001b[39;00m\u001b[38;5;28mself\u001b[39m\u001b[38;5;241m.\u001b[39mndim\u001b[38;5;132;01m}\u001b[39;00m\u001b[38;5;124m\"\u001b[39m\n\u001b[1;32m    686\u001b[0m     )\n\u001b[1;32m    687\u001b[0m \u001b[38;5;28;01mreturn\u001b[39;00m dims\n",
      "\u001b[0;31mValueError\u001b[0m: dimensions ('reftime', 'time', 'height_above_ground3', 'latitude', 'longitude') must have the same length as the number of data dimensions, ndim=4",
      "\nDuring handling of the above exception, another exception occurred:\n",
      "\u001b[0;31mValueError\u001b[0m                                Traceback (most recent call last)",
      "Cell \u001b[0;32mIn[55], line 2\u001b[0m\n\u001b[1;32m      1\u001b[0m \u001b[38;5;28;01mimport\u001b[39;00m \u001b[38;5;21;01mxarray\u001b[39;00m \u001b[38;5;28;01mas\u001b[39;00m \u001b[38;5;21;01mxr\u001b[39;00m\n\u001b[0;32m----> 2\u001b[0m xrd \u001b[38;5;241m=\u001b[39m xr\u001b[38;5;241m.\u001b[39mDataset(\n\u001b[1;32m      3\u001b[0m     data_vars \u001b[38;5;241m=\u001b[39m {\n\u001b[1;32m      4\u001b[0m         \u001b[38;5;124m'\u001b[39m\u001b[38;5;124mTemperature_height_above_ground\u001b[39m\u001b[38;5;124m'\u001b[39m: (\n\u001b[1;32m      5\u001b[0m             [\u001b[38;5;124m'\u001b[39m\u001b[38;5;124mreftime\u001b[39m\u001b[38;5;124m'\u001b[39m,\u001b[38;5;124m'\u001b[39m\u001b[38;5;124mtime\u001b[39m\u001b[38;5;124m'\u001b[39m, \u001b[38;5;124m'\u001b[39m\u001b[38;5;124mheight_above_ground3\u001b[39m\u001b[38;5;124m'\u001b[39m, \u001b[38;5;124m'\u001b[39m\u001b[38;5;124mlatitude\u001b[39m\u001b[38;5;124m'\u001b[39m, \u001b[38;5;124m'\u001b[39m\u001b[38;5;124mlongitude\u001b[39m\u001b[38;5;124m'\u001b[39m], \n\u001b[1;32m      6\u001b[0m             ncep_gfs_data\u001b[38;5;241m.\u001b[39mvariables[\u001b[38;5;124m'\u001b[39m\u001b[38;5;124mTemperature_height_above_ground\u001b[39m\u001b[38;5;124m'\u001b[39m][:] \u001b[38;5;241m-\u001b[39m \u001b[38;5;241m273.15\u001b[39m)},\n\u001b[1;32m      7\u001b[0m     coords\u001b[38;5;241m=\u001b[39m{\n\u001b[1;32m      8\u001b[0m         \u001b[38;5;124m'\u001b[39m\u001b[38;5;124mreftime\u001b[39m\u001b[38;5;124m'\u001b[39m: ncep_gfs_data\u001b[38;5;241m.\u001b[39mvariables[\u001b[38;5;124m'\u001b[39m\u001b[38;5;124mreftime\u001b[39m\u001b[38;5;124m'\u001b[39m][:],\n\u001b[1;32m      9\u001b[0m         \u001b[38;5;124m'\u001b[39m\u001b[38;5;124mtime\u001b[39m\u001b[38;5;124m'\u001b[39m: ncep_gfs_data\u001b[38;5;241m.\u001b[39mvariables[\u001b[38;5;124m'\u001b[39m\u001b[38;5;124mtime\u001b[39m\u001b[38;5;124m'\u001b[39m][:],\n\u001b[1;32m     10\u001b[0m         \u001b[38;5;124m'\u001b[39m\u001b[38;5;124mheight_above_ground3\u001b[39m\u001b[38;5;124m'\u001b[39m: ncep_gfs_data\u001b[38;5;241m.\u001b[39mvariables[\u001b[38;5;124m'\u001b[39m\u001b[38;5;124mheight_above_ground3\u001b[39m\u001b[38;5;124m'\u001b[39m][:],\n\u001b[1;32m     11\u001b[0m         \u001b[38;5;124m'\u001b[39m\u001b[38;5;124mlatitude\u001b[39m\u001b[38;5;124m'\u001b[39m: ncep_gfs_data\u001b[38;5;241m.\u001b[39mvariables[\u001b[38;5;124m'\u001b[39m\u001b[38;5;124mlatitude\u001b[39m\u001b[38;5;124m'\u001b[39m][:],\n\u001b[1;32m     12\u001b[0m         \u001b[38;5;124m'\u001b[39m\u001b[38;5;124mlongitude\u001b[39m\u001b[38;5;124m'\u001b[39m: ncep_gfs_data\u001b[38;5;241m.\u001b[39mvariables[\u001b[38;5;124m'\u001b[39m\u001b[38;5;124mlongitude\u001b[39m\u001b[38;5;124m'\u001b[39m][:] })\n",
      "File \u001b[0;32m/opt/conda/lib/python3.12/site-packages/xarray/core/dataset.py:652\u001b[0m, in \u001b[0;36mDataset.__init__\u001b[0;34m(self, data_vars, coords, attrs)\u001b[0m\n\u001b[1;32m    649\u001b[0m \u001b[38;5;28;01mif\u001b[39;00m \u001b[38;5;28misinstance\u001b[39m(coords, Dataset):\n\u001b[1;32m    650\u001b[0m     coords \u001b[38;5;241m=\u001b[39m coords\u001b[38;5;241m.\u001b[39m_variables\n\u001b[0;32m--> 652\u001b[0m variables, coord_names, dims, indexes, _ \u001b[38;5;241m=\u001b[39m merge_data_and_coords(\n\u001b[1;32m    653\u001b[0m     data_vars, coords, compat\u001b[38;5;241m=\u001b[39m\u001b[38;5;124m\"\u001b[39m\u001b[38;5;124mbroadcast_equals\u001b[39m\u001b[38;5;124m\"\u001b[39m\n\u001b[1;32m    654\u001b[0m )\n\u001b[1;32m    656\u001b[0m \u001b[38;5;28mself\u001b[39m\u001b[38;5;241m.\u001b[39m_attrs \u001b[38;5;241m=\u001b[39m \u001b[38;5;28mdict\u001b[39m(attrs) \u001b[38;5;28;01mif\u001b[39;00m attrs \u001b[38;5;129;01mis\u001b[39;00m \u001b[38;5;129;01mnot\u001b[39;00m \u001b[38;5;28;01mNone\u001b[39;00m \u001b[38;5;28;01melse\u001b[39;00m \u001b[38;5;28;01mNone\u001b[39;00m\n\u001b[1;32m    657\u001b[0m \u001b[38;5;28mself\u001b[39m\u001b[38;5;241m.\u001b[39m_close \u001b[38;5;241m=\u001b[39m \u001b[38;5;28;01mNone\u001b[39;00m\n",
      "File \u001b[0;32m/opt/conda/lib/python3.12/site-packages/xarray/core/merge.py:569\u001b[0m, in \u001b[0;36mmerge_data_and_coords\u001b[0;34m(data_vars, coords, compat, join)\u001b[0m\n\u001b[1;32m    567\u001b[0m objects \u001b[38;5;241m=\u001b[39m [data_vars, coords]\n\u001b[1;32m    568\u001b[0m explicit_coords \u001b[38;5;241m=\u001b[39m coords\u001b[38;5;241m.\u001b[39mkeys()\n\u001b[0;32m--> 569\u001b[0m \u001b[38;5;28;01mreturn\u001b[39;00m merge_core(\n\u001b[1;32m    570\u001b[0m     objects,\n\u001b[1;32m    571\u001b[0m     compat,\n\u001b[1;32m    572\u001b[0m     join,\n\u001b[1;32m    573\u001b[0m     explicit_coords\u001b[38;5;241m=\u001b[39mexplicit_coords,\n\u001b[1;32m    574\u001b[0m     indexes\u001b[38;5;241m=\u001b[39mIndexes(indexes, coords),\n\u001b[1;32m    575\u001b[0m )\n",
      "File \u001b[0;32m/opt/conda/lib/python3.12/site-packages/xarray/core/merge.py:755\u001b[0m, in \u001b[0;36mmerge_core\u001b[0;34m(objects, compat, join, combine_attrs, priority_arg, explicit_coords, indexes, fill_value)\u001b[0m\n\u001b[1;32m    751\u001b[0m coerced \u001b[38;5;241m=\u001b[39m coerce_pandas_values(objects)\n\u001b[1;32m    752\u001b[0m aligned \u001b[38;5;241m=\u001b[39m deep_align(\n\u001b[1;32m    753\u001b[0m     coerced, join\u001b[38;5;241m=\u001b[39mjoin, copy\u001b[38;5;241m=\u001b[39m\u001b[38;5;28;01mFalse\u001b[39;00m, indexes\u001b[38;5;241m=\u001b[39mindexes, fill_value\u001b[38;5;241m=\u001b[39mfill_value\n\u001b[1;32m    754\u001b[0m )\n\u001b[0;32m--> 755\u001b[0m collected \u001b[38;5;241m=\u001b[39m collect_variables_and_indexes(aligned, indexes\u001b[38;5;241m=\u001b[39mindexes)\n\u001b[1;32m    756\u001b[0m prioritized \u001b[38;5;241m=\u001b[39m _get_priority_vars_and_indexes(aligned, priority_arg, compat\u001b[38;5;241m=\u001b[39mcompat)\n\u001b[1;32m    757\u001b[0m variables, out_indexes \u001b[38;5;241m=\u001b[39m merge_collected(\n\u001b[1;32m    758\u001b[0m     collected, prioritized, compat\u001b[38;5;241m=\u001b[39mcompat, combine_attrs\u001b[38;5;241m=\u001b[39mcombine_attrs\n\u001b[1;32m    759\u001b[0m )\n",
      "File \u001b[0;32m/opt/conda/lib/python3.12/site-packages/xarray/core/merge.py:354\u001b[0m, in \u001b[0;36mcollect_variables_and_indexes\u001b[0;34m(list_of_mappings, indexes)\u001b[0m\n\u001b[1;32m    351\u001b[0m     indexes_\u001b[38;5;241m.\u001b[39mpop(name, \u001b[38;5;28;01mNone\u001b[39;00m)\n\u001b[1;32m    352\u001b[0m     append_all(coords_, indexes_)\n\u001b[0;32m--> 354\u001b[0m variable \u001b[38;5;241m=\u001b[39m as_variable(variable, name\u001b[38;5;241m=\u001b[39mname)\n\u001b[1;32m    355\u001b[0m \u001b[38;5;28;01mif\u001b[39;00m name \u001b[38;5;129;01min\u001b[39;00m indexes:\n\u001b[1;32m    356\u001b[0m     append(name, variable, indexes[name])\n",
      "File \u001b[0;32m/opt/conda/lib/python3.12/site-packages/xarray/core/variable.py:135\u001b[0m, in \u001b[0;36mas_variable\u001b[0;34m(obj, name)\u001b[0m\n\u001b[1;32m    132\u001b[0m         obj \u001b[38;5;241m=\u001b[39m Variable(\u001b[38;5;241m*\u001b[39mobj)\n\u001b[1;32m    133\u001b[0m     \u001b[38;5;28;01mexcept\u001b[39;00m (\u001b[38;5;167;01mTypeError\u001b[39;00m, \u001b[38;5;167;01mValueError\u001b[39;00m) \u001b[38;5;28;01mas\u001b[39;00m error:\n\u001b[1;32m    134\u001b[0m         \u001b[38;5;66;03m# use .format() instead of % because it handles tuples consistently\u001b[39;00m\n\u001b[0;32m--> 135\u001b[0m         \u001b[38;5;28;01mraise\u001b[39;00m error\u001b[38;5;241m.\u001b[39m\u001b[38;5;18m__class__\u001b[39m(\n\u001b[1;32m    136\u001b[0m             \u001b[38;5;124m\"\u001b[39m\u001b[38;5;124mCould not convert tuple of form \u001b[39m\u001b[38;5;124m\"\u001b[39m\n\u001b[1;32m    137\u001b[0m             \u001b[38;5;124m\"\u001b[39m\u001b[38;5;124m(dims, data[, attrs, encoding]): \u001b[39m\u001b[38;5;124m\"\u001b[39m\n\u001b[1;32m    138\u001b[0m             \u001b[38;5;124m\"\u001b[39m\u001b[38;5;132;01m{}\u001b[39;00m\u001b[38;5;124m to Variable.\u001b[39m\u001b[38;5;124m\"\u001b[39m\u001b[38;5;241m.\u001b[39mformat(obj)\n\u001b[1;32m    139\u001b[0m         )\n\u001b[1;32m    140\u001b[0m \u001b[38;5;28;01melif\u001b[39;00m utils\u001b[38;5;241m.\u001b[39mis_scalar(obj):\n\u001b[1;32m    141\u001b[0m     obj \u001b[38;5;241m=\u001b[39m Variable([], obj)\n",
      "\u001b[0;31mValueError\u001b[0m: Could not convert tuple of form (dims, data[, attrs, encoding]): (['reftime', 'time', 'height_above_ground3', 'latitude', 'longitude'], masked_array(\n  data=[[[[15.550018 , 15.550018 , 15.649994 , ..., 12.25     ,\n           12.450012 , 12.450012 ],\n          [15.950012 , 15.950012 , 16.050018 , ..., 12.75     ,\n           12.950012 , 13.050018 ],\n          [16.350006 , 16.350006 , 16.350006 , ..., 12.450012 ,\n           13.050018 , 13.149994 ],\n          ...,\n          [23.75     , 23.75     , 23.75     , ..., 28.75     ,\n           28.75     , 28.550018 ],\n          [23.850006 , 24.050018 , 23.950012 , ..., 28.450012 ,\n           28.450012 , 28.450012 ],\n          [23.850006 , 23.950012 , 23.850006 , ..., 28.350006 ,\n           28.450012 , 28.450012 ]],\n\n         [[15.031677 , 15.121674 , 15.22168  , ..., 11.781677 ,\n           11.881653 , 11.901672 ],\n          [15.501678 , 15.511658 , 15.611664 , ..., 12.031677 ,\n           12.171661 , 12.2916565],\n          [15.911652 , 15.941681 , 15.97168  , ..., 11.571655 ,\n           12.101654 , 12.261658 ],\n          ...,\n          [22.741669 , 22.821655 , 22.791656 , ..., 27.851654 ,\n           27.891663 , 27.891663 ],\n          [22.921661 , 23.061676 , 23.031677 , ..., 27.741669 ,\n           27.661652 , 27.671661 ],\n          [22.871674 , 22.991669 , 22.921661 , ..., 27.761658 ,\n           27.71167  , 27.791656 ]],\n\n         [[14.892944 , 14.99295  , 15.102936 , ..., 11.672943 ,\n           11.762939 , 11.772949 ],\n          [15.382935 , 15.392944 , 15.472931 , ..., 11.862946 ,\n           11.982941 , 12.102936 ],\n          [15.802948 , 15.832947 , 15.862946 , ..., 11.382935 ,\n           11.902924 , 12.052948 ],\n          ...,\n          [22.542938 , 22.622925 , 22.592926 , ..., 27.652924 ,\n           27.692932 , 27.712921 ],\n          [22.72293  , 22.862946 , 22.822937 , ..., 27.562927 ,\n           27.48294  , 27.50293  ],\n          [22.672943 , 22.792938 , 22.72293  , ..., 27.592926 ,\n           27.532928 , 27.622925 ]]]],\n  mask=False,\n  fill_value=1e+20,\n  dtype=float32)) to Variable."
     ]
    }
   ],
   "source": [
    "\n",
    "import xarray as xr\n",
    "xrd = xr.Dataset(\n",
    "    data_vars = {\n",
    "        'Temperature_height_above_ground': (\n",
    "            ['reftime','time', 'height_above_ground3', 'latitude', 'longitude'], \n",
    "            ncep_gfs_data.variables['Temperature_height_above_ground'][:] - 273.15)},\n",
    "    coords={\n",
    "        'reftime': ncep_gfs_data.variables['reftime'][:],\n",
    "        'time': ncep_gfs_data.variables['time'][:],\n",
    "        'height_above_ground3': ncep_gfs_data.variables['height_above_ground3'][:],\n",
    "        'latitude': ncep_gfs_data.variables['latitude'][:],\n",
    "        'longitude': ncep_gfs_data.variables['longitude'][:] })"
   ]
  },
  {
   "cell_type": "code",
   "execution_count": null,
   "metadata": {},
   "outputs": [],
   "source": []
  }
 ],
 "metadata": {
  "kernelspec": {
   "display_name": "base",
   "language": "python",
   "name": "python3"
  },
  "language_info": {
   "codemirror_mode": {
    "name": "ipython",
    "version": 3
   },
   "file_extension": ".py",
   "mimetype": "text/x-python",
   "name": "python",
   "nbconvert_exporter": "python",
   "pygments_lexer": "ipython3",
   "version": "3.12.2"
  }
 },
 "nbformat": 4,
 "nbformat_minor": 2
}
